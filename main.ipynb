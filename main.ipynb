{
 "cells": [
  {
   "cell_type": "code",
   "execution_count": null,
   "metadata": {},
   "outputs": [],
   "source": [
    "import numpy as np\n",
    "import pandas as pd\n",
    "import matplotlib.pyplot as plt\n",
    "import seaborn as sns\n",
    "# import opendatasets as od\n",
    "import os\n",
    "from zipfile import ZipFile\n",
    "\n",
    "import plotly.express as px\n",
    "\n",
    "%matplotlib inline"
   ]
  },
  {
   "cell_type": "code",
   "execution_count": null,
   "metadata": {},
   "outputs": [],
   "source": [
    "walmart = pd.read_csv('./train.csv')\n",
    "stores = pd.read_csv('./store.csv')\n",
    "features = pd.read_csv('./features.csv')\n",
    "# testing = pd.read_csv('./test.csv')\n",
    "\n",
    "stores.info()"
   ]
  },
  {
   "cell_type": "code",
   "execution_count": null,
   "metadata": {},
   "outputs": [],
   "source": [
    "features.drop(columns = ['MarkDown1', 'MarkDown2', 'MarkDown3', 'MarkDown4', 'MarkDown5'], inplace = True)"
   ]
  },
  {
   "attachments": {},
   "cell_type": "markdown",
   "metadata": {},
   "source": [
    "Removing our NULL/NA values from our dataframes prior to merging our 3 datasets into a single larger dataset"
   ]
  },
  {
   "cell_type": "code",
   "execution_count": null,
   "metadata": {},
   "outputs": [],
   "source": [
    "merged = walmart.merge(stores, how='left').merge(features, how='left')\n",
    "# testing_merged = testing.merge(stores, how='left').merge(features, how='left')"
   ]
  },
  {
   "cell_type": "code",
   "execution_count": null,
   "metadata": {},
   "outputs": [],
   "source": [
    "def split_date(df):\n",
    "    df['Date'] = pd.to_datetime(df['Date'])\n",
    "    df['Year'] = df.Date.dt.year\n",
    "    df['Month'] = df.Date.dt.month\n",
    "    df['Day'] = df.Date.dt.day\n",
    "    df['WeekOfYear'] = (df.Date.dt.isocalendar().week)*1.0   \n",
    "    \n",
    "split_date(merged) "
   ]
  },
  {
   "cell_type": "code",
   "execution_count": null,
   "metadata": {},
   "outputs": [],
   "source": [
    "merged.info()"
   ]
  },
  {
   "attachments": {},
   "cell_type": "markdown",
   "metadata": {},
   "source": [
    "Our first goal is to visualize the data that groups sales by the DMA. We will do so to create some baseline understanding of what each locations total sales look like."
   ]
  },
  {
   "cell_type": "code",
   "execution_count": null,
   "metadata": {},
   "outputs": [],
   "source": [
    "merged_dummy = pd.get_dummies(merged)"
   ]
  },
  {
   "cell_type": "code",
   "execution_count": null,
   "metadata": {},
   "outputs": [],
   "source": [
    "dmacounts = merged.Store.value_counts().to_dict()\n",
    "df = pd.DataFrame(list(dmacounts.items()), columns=['DMA', 'Store'])\n",
    "\n",
    "# fig = px.pie(df, values='Store', names='DMA', title='Stores per DMA', labels = {'DMA':'DMA', 'Store':'Store'})\n",
    "\n",
    "# fig = px.bar(df, x='DMA', y='Store', color='DMA', title='Store Types')\n",
    "\n",
    "fig = px.pie(merged, values = 'Weekly_Sales', names = 'DMA' ,title = 'Weekly Sales per DMA', labels = {'DMA':'DMA', 'Weekly_Sales':'Weekly Sales'})\n",
    "\n",
    "fig2 = px.bar(merged, x = 'DMA', y = 'Weekly_Sales', color = 'DMA', title = 'Weekly Sales per DMA')\n",
    "\n",
    "# fig.show()\n",
    "fig2.show()"
   ]
  }
 ],
 "metadata": {
  "kernelspec": {
   "display_name": "AML",
   "language": "python",
   "name": "python3"
  },
  "language_info": {
   "codemirror_mode": {
    "name": "ipython",
    "version": 3
   },
   "file_extension": ".py",
   "mimetype": "text/x-python",
   "name": "python",
   "nbconvert_exporter": "python",
   "pygments_lexer": "ipython3",
   "version": "3.9.12 (main, Apr  4 2022, 05:22:27) [MSC v.1916 64 bit (AMD64)]"
  },
  "orig_nbformat": 4,
  "vscode": {
   "interpreter": {
    "hash": "129f72756972859598fcdbfec958071252f5a866c5c7b6af70468283d9db0453"
   }
  }
 },
 "nbformat": 4,
 "nbformat_minor": 2
}
